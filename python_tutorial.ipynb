{
 "cells": [
  {
   "cell_type": "markdown",
   "metadata": {},
   "source": [
    "### Intro to IPython Notebook"
   ]
  },
  {
   "cell_type": "code",
   "execution_count": 1,
   "metadata": {},
   "outputs": [
    {
     "name": "stdout",
     "output_type": "stream",
     "text": [
      "3.5.2 |Anaconda 4.1.1 (64-bit)| (default, Jul  2 2016, 17:53:06) \n",
      "[GCC 4.4.7 20120313 (Red Hat 4.4.7-1)]\n"
     ]
    }
   ],
   "source": [
    "import sys\n",
    "print(sys.version)"
   ]
  },
  {
   "cell_type": "markdown",
   "metadata": {},
   "source": [
    "This is the IPython Notebook. It is an interface for running python code and exploring data.\n",
    "\n",
    "You can create a *new line* in a box of code by typing Enter. You can *run* a box (or 'cell') of code by typing Shift-Enter. I've constructed some cells of code below. Use **Shift-Enter** to run them to see what the output is. After each box, I encourage you to explore by adding a box of your own (you can use the \"Insert->Insert Cell Above/Below\" menu command) and writing similar code to the box I've provided. The boxes all control a global python workspace, so things you do in one box can make changes to subsequent boxes.\n",
    "\n",
    "A lot of Python documentation is available online. A good place to start is the official Python tutorial: https://docs.python.org/2/tutorial/index.html. Other useful documentation can be found at some of the following links, or use google:\n",
    "\n",
    "* https://docs.scipy.org/doc/numpy-dev/user/quickstart.html\n",
    "* http://www.scipy-lectures.org/\n",
    "\n",
    "The simplest code you can run is the `print` command. Comments are text that lies after a # symbol, and are ignored by Python."
   ]
  },
  {
   "cell_type": "code",
   "execution_count": 2,
   "metadata": {},
   "outputs": [
    {
     "name": "stdout",
     "output_type": "stream",
     "text": [
      "Hello World\n"
     ]
    }
   ],
   "source": [
    "print(\"Hello World\") # This is a comment."
   ]
  },
  {
   "cell_type": "markdown",
   "metadata": {},
   "source": [
    "### Working with values"
   ]
  },
  {
   "cell_type": "markdown",
   "metadata": {},
   "source": [
    "Python can be used to perform calculations on constant values."
   ]
  },
  {
   "cell_type": "code",
   "execution_count": 3,
   "metadata": {},
   "outputs": [
    {
     "name": "stdout",
     "output_type": "stream",
     "text": [
      "5\n"
     ]
    }
   ],
   "source": [
    "print(2 + 3)"
   ]
  },
  {
   "cell_type": "markdown",
   "metadata": {},
   "source": [
    "    * is the multiplication operator"
   ]
  },
  {
   "cell_type": "code",
   "execution_count": 4,
   "metadata": {},
   "outputs": [
    {
     "name": "stdout",
     "output_type": "stream",
     "text": [
      "6\n"
     ]
    }
   ],
   "source": [
    "print(2 * 3)"
   ]
  },
  {
   "cell_type": "markdown",
   "metadata": {},
   "source": [
    "** is the to-the-power-of operator"
   ]
  },
  {
   "cell_type": "code",
   "execution_count": 5,
   "metadata": {},
   "outputs": [
    {
     "name": "stdout",
     "output_type": "stream",
     "text": [
      "8\n"
     ]
    }
   ],
   "source": [
    "print(2**3)"
   ]
  },
  {
   "cell_type": "markdown",
   "metadata": {},
   "source": [
    "**Exercises:** \n",
    "\n",
    "1. What's unexpected about the division operator / ?\n",
    "1. Does python obey the correct order of operations (BEDMAS rules)?\n",
    "1. What does the modulus operator do?"
   ]
  },
  {
   "cell_type": "markdown",
   "metadata": {},
   "source": [
    "There are lots of other mathematical operators, for example as shown here http://www.tutorialspoint.com/python/python_basic_operators.htm."
   ]
  },
  {
   "cell_type": "markdown",
   "metadata": {},
   "source": [
    "### Variables"
   ]
  },
  {
   "cell_type": "markdown",
   "metadata": {},
   "source": [
    "We can put values into boxes called *variables*. The value of a variable can change during your program, but be referred to by the same name. The equals sign (=) is used here as the assignment operator: it assigns the value on the right-hand side to the variable on the left-hand side."
   ]
  },
  {
   "cell_type": "code",
   "execution_count": 7,
   "metadata": {},
   "outputs": [
    {
     "name": "stdout",
     "output_type": "stream",
     "text": [
      "First time: a = 5\n",
      "Second time: a = 6\n"
     ]
    }
   ],
   "source": [
    "a = 2\n",
    "print(\"First time: a =\", a + 3)\n",
    "a = 3\n",
    "print(\"Second time: a =\", a + 3)"
   ]
  },
  {
   "cell_type": "markdown",
   "metadata": {},
   "source": [
    "### Functions"
   ]
  },
  {
   "cell_type": "markdown",
   "metadata": {},
   "source": [
    "Lots of jobs we need to do in Python are performed by functions. Functions are called using their name, followed by a pair of round brackets containing whatever parameters (inputs) the function needs. If it needs no inputs, leave the brackets empty but they must still be included. A simple function is the `len` function, which returns the length of its parameter."
   ]
  },
  {
   "cell_type": "code",
   "execution_count": 9,
   "metadata": {},
   "outputs": [
    {
     "name": "stdout",
     "output_type": "stream",
     "text": [
      "5\n"
     ]
    }
   ],
   "source": [
    "print(len(\"Hello\"))"
   ]
  },
  {
   "cell_type": "markdown",
   "metadata": {},
   "source": [
    "If the `len` function is given a parameter it doesn't know how to give the length of, it will return an error."
   ]
  },
  {
   "cell_type": "code",
   "execution_count": 10,
   "metadata": {},
   "outputs": [
    {
     "ename": "TypeError",
     "evalue": "object of type 'int' has no len()",
     "output_type": "error",
     "traceback": [
      "\u001b[1;31m---------------------------------------------------------------------------\u001b[0m",
      "\u001b[1;31mTypeError\u001b[0m                                 Traceback (most recent call last)",
      "\u001b[1;32m<ipython-input-10-bef7ff43db2f>\u001b[0m in \u001b[0;36m<module>\u001b[1;34m()\u001b[0m\n\u001b[1;32m----> 1\u001b[1;33m \u001b[0mprint\u001b[0m\u001b[1;33m(\u001b[0m\u001b[0mlen\u001b[0m\u001b[1;33m(\u001b[0m\u001b[1;36m6\u001b[0m\u001b[1;33m)\u001b[0m\u001b[1;33m)\u001b[0m\u001b[1;33m\u001b[0m\u001b[0m\n\u001b[0m",
      "\u001b[1;31mTypeError\u001b[0m: object of type 'int' has no len()"
     ]
    }
   ],
   "source": [
    "print(len(6))"
   ]
  },
  {
   "cell_type": "markdown",
   "metadata": {},
   "source": [
    "### Numpy"
   ]
  },
  {
   "cell_type": "markdown",
   "metadata": {},
   "source": [
    "Normally, variables hold just one value at a time. Using the `numpy` library, a variable can refer to a rectangular grid of numbers, known as an *array*, which will be useful for processing biomechanical data. To use the numpy library, we first need to import it, so Python knows about it. In the line below we import numpy and give it a shortened nickname \"np\" to refer to it easily.\n",
    "\n",
    "I will refer provide links for further reading in the numpy basics documentation, which can be found online: http://docs.scipy.org/doc/numpy/user/basics.html."
   ]
  },
  {
   "cell_type": "code",
   "execution_count": 11,
   "metadata": {},
   "outputs": [],
   "source": [
    "import numpy as np"
   ]
  },
  {
   "cell_type": "markdown",
   "metadata": {},
   "source": [
    "To create a numpy array, we can use the `array` function, which takes one parameter, a `list` of values or `list` of `lists` indicating the shape of the array to create. See also: http://docs.scipy.org/doc/numpy/user/basics.creation.html."
   ]
  },
  {
   "cell_type": "markdown",
   "metadata": {},
   "source": [
    "### Arrays"
   ]
  },
  {
   "cell_type": "markdown",
   "metadata": {},
   "source": [
    "A numpy array can have any number of dimensions, rows, and columns. For example, a 2-D vector would have just 2 elements..."
   ]
  },
  {
   "cell_type": "code",
   "execution_count": 12,
   "metadata": {},
   "outputs": [
    {
     "name": "stdout",
     "output_type": "stream",
     "text": [
      "[2 3]\n"
     ]
    }
   ],
   "source": [
    "my_vector = np.array([2,3])\n",
    "print(my_vector)"
   ]
  },
  {
   "cell_type": "markdown",
   "metadata": {},
   "source": [
    "whereas we could represent a 2-D vector changing over 5 time samples as a grid of 2 columns (the individual vectors) and 5 rows. Here we create an array and assign it to the name other_vector, so you shouldn't see any output."
   ]
  },
  {
   "cell_type": "code",
   "execution_count": 13,
   "metadata": {},
   "outputs": [],
   "source": [
    "other_vector = np.array([[1,2],[3,4],[5,6],[7,8],[9,10]])"
   ]
  },
  {
   "cell_type": "markdown",
   "metadata": {},
   "source": [
    "(Obviously, this would be a painful way to enter data, so we'll explore some better ways soon.)"
   ]
  },
  {
   "cell_type": "code",
   "execution_count": 14,
   "metadata": {},
   "outputs": [
    {
     "name": "stdout",
     "output_type": "stream",
     "text": [
      "[[ 1  2]\n",
      " [ 3  4]\n",
      " [ 5  6]\n",
      " [ 7  8]\n",
      " [ 9 10]]\n"
     ]
    }
   ],
   "source": [
    "print(other_vector)"
   ]
  },
  {
   "cell_type": "markdown",
   "metadata": {},
   "source": [
    "### Simple indexing"
   ]
  },
  {
   "cell_type": "markdown",
   "metadata": {},
   "source": [
    "To refer to a subset of elements within an array, we can use indexing. The index of the first row or column of an array is 0."
   ]
  },
  {
   "cell_type": "code",
   "execution_count": 15,
   "metadata": {},
   "outputs": [
    {
     "name": "stdout",
     "output_type": "stream",
     "text": [
      "1\n",
      "6\n"
     ]
    }
   ],
   "source": [
    "print(other_vector[0,0]) # the element in the first row and first column\n",
    "print(other_vector[2,1]) # the element in the third row and second column"
   ]
  },
  {
   "cell_type": "markdown",
   "metadata": {},
   "source": [
    "This generalized to `array[row, column]`. The indexes for each dimension are separated by a comma.\n",
    "\n",
    "If you want to refer to several elements within a dimension at once, you can use a *slice*. The syntax for a slice is (instead of a single value) the first element you want to include then a colon then the first element you want to exclude."
   ]
  },
  {
   "cell_type": "code",
   "execution_count": 16,
   "metadata": {},
   "outputs": [
    {
     "name": "stdout",
     "output_type": "stream",
     "text": [
      "[4 6 8]\n"
     ]
    }
   ],
   "source": [
    "print(other_vector[1:4,1]) # the elements in the second, third, and fourth rows of the second column."
   ]
  },
  {
   "cell_type": "markdown",
   "metadata": {},
   "source": [
    "If you want to start at the first element or end with the last element, you can leave that number out."
   ]
  },
  {
   "cell_type": "code",
   "execution_count": 17,
   "metadata": {},
   "outputs": [
    {
     "name": "stdout",
     "output_type": "stream",
     "text": [
      "[1 3 5]\n"
     ]
    }
   ],
   "source": [
    "print(other_vector[:3,0]) # the elements in the first, second, and third rows of the first column."
   ]
  },
  {
   "cell_type": "markdown",
   "metadata": {},
   "source": [
    "To refer to a whole row, leave out both numbers and just use a colon. If it's the last dimension, you can leave it out completely."
   ]
  },
  {
   "cell_type": "code",
   "execution_count": 18,
   "metadata": {},
   "outputs": [
    {
     "name": "stdout",
     "output_type": "stream",
     "text": [
      "[1 3 5 7 9]\n",
      "[5 6]\n",
      "[5 6]\n"
     ]
    }
   ],
   "source": [
    "print(other_vector[:,0]) # the whole first column\n",
    "print(other_vector[2,:]) # the whole third row\n",
    "print(other_vector[2])   # also the whole third row"
   ]
  },
  {
   "cell_type": "markdown",
   "metadata": {},
   "source": [
    "**Exercise:** How do you get just the last three elements of the second column (i.e. 6, 8, 10)?"
   ]
  },
  {
   "cell_type": "markdown",
   "metadata": {},
   "source": [
    "### Array methods and properties"
   ]
  },
  {
   "cell_type": "markdown",
   "metadata": {},
   "source": [
    "If we want to find the shape of an array at any time we can use the shape *property* of the array, accessed by typing \".shape\" after the array name. Tip: after typing the \".\" after the name, you can use tab and autocomplete to see all available properties and methods an object has available. *Methods* are functions that specifically belong to a particular object; like other functions they need the round brackets for the parameter list. *Properties* do not require brackets."
   ]
  },
  {
   "cell_type": "code",
   "execution_count": 19,
   "metadata": {},
   "outputs": [
    {
     "name": "stdout",
     "output_type": "stream",
     "text": [
      "(5, 2)\n"
     ]
    }
   ],
   "source": [
    "print(other_vector.shape)"
   ]
  },
  {
   "cell_type": "markdown",
   "metadata": {},
   "source": [
    "### Loading data"
   ]
  },
  {
   "cell_type": "markdown",
   "metadata": {},
   "source": [
    "Numpy has a `genfromtxt` function that will load data from a text file into an array.\n",
    "\n",
    "First of all, use a text editor (for example Notepad), to look at the file 'tutorial_data.csv'. CSV stands for \"comma-separated value\", which means that each number in the row is separated by a comma, and each row is separated from the other by a new-line character.\n",
    "\n",
    "Functions can take two types of parameters (inputs): positional parameters (where their order is important) and keyword parameters. Keyword parameters must come after positional parameters, and are given with a `keyword=value` syntax.\n",
    "\n",
    "In the case below, we're using one positional parameter 'tutorial_data.csv', the name of the file to read, and two keyword parameters `delimiter` (given the value of a comma) and `skiprows` (given the value 2). The `delimiter` parameter tells `genfromtxt` which character separates each item, and `skiprows` tells the function how many lines to ignore at the top of the file (header lines).\n",
    "\n",
    "We're going to put the result of the `genfromtxt` function into a variable named `data` so we can refer to it later."
   ]
  },
  {
   "cell_type": "code",
   "execution_count": 20,
   "metadata": {},
   "outputs": [],
   "source": [
    "data = np.genfromtxt('tutorial_data.csv', delimiter=\",\", skip_header=2)"
   ]
  },
  {
   "cell_type": "markdown",
   "metadata": {},
   "source": [
    "**Exercise:** Create a line below and print the shape of data to get an idea of what we've loaded."
   ]
  },
  {
   "cell_type": "markdown",
   "metadata": {},
   "source": [
    "You should get a 100 x 13 array, i.e. 100 time points x 13 columns.\n",
    "\n",
    "You can hopefully see from the CSV file that the 13 columns are `Field` (sample number), then the $x$, $y$, and $z$ components of each of `RTOE`, `RHJC` (right hip joint centre), `RKJC` (right knee joint centre), and `RAJC` (right ankle joint centre). For convenience, we can give some of these columns names."
   ]
  },
  {
   "cell_type": "code",
   "execution_count": 21,
   "metadata": {},
   "outputs": [],
   "source": [
    "samples = data[:,0]"
   ]
  },
  {
   "cell_type": "markdown",
   "metadata": {},
   "source": [
    "### Plotting"
   ]
  },
  {
   "cell_type": "markdown",
   "metadata": {},
   "source": [
    "2-D plotting can be performed using the matplotlib library. To use it, we have to do import the library and tell ipython how to display the plots.\n",
    "\n",
    "Examples of all the different sorts of plots matplotlib can generate can be found here: http://matplotlib.org/gallery.html."
   ]
  },
  {
   "cell_type": "code",
   "execution_count": 22,
   "metadata": {},
   "outputs": [],
   "source": [
    "import matplotlib.pyplot as plt\n",
    "%matplotlib inline"
   ]
  },
  {
   "cell_type": "markdown",
   "metadata": {},
   "source": [
    "Now we can use the plot function to generate a plot, for example of RHEE:X against time.\n",
    "\n",
    "The plot command syntax is described here: http://matplotlib.org/api/pyplot_api.html?highlight=pyplot.plot#matplotlib.pyplot.plot.\n",
    "\n",
    "It takes the $x$ values (in this case all values in the time column), then the $y$ values (all values in RHEE:X column), and plots them using a black ('k') line ('-'). I've also added some labels to the axes."
   ]
  },
  {
   "cell_type": "code",
   "execution_count": 23,
   "metadata": {},
   "outputs": [
    {
     "data": {
      "text/plain": [
       "<matplotlib.text.Text at 0x7efda40ac7f0>"
      ]
     },
     "execution_count": 23,
     "metadata": {},
     "output_type": "execute_result"
    },
    {
     "data": {
      "image/png": "[encoded data removed]",
      "text/plain": [
       "<matplotlib.figure.Figure at 0x7efda40fd400>"
      ]
     },
     "metadata": {},
     "output_type": "display_data"
    }
   ],
   "source": [
    "plt.plot(samples, data[:,1], 'k-')\n",
    "plt.xlabel('time (samples @ 100 Hz)')\n",
    "plt.ylabel('RTOE:X (mm)')"
   ]
  },
  {
   "cell_type": "markdown",
   "metadata": {},
   "source": [
    "To plot the all x, y, and z components of the RTOE marker, we could just specify the correct slice for the y values..."
   ]
  },
  {
   "cell_type": "code",
   "execution_count": 24,
   "metadata": {},
   "outputs": [
    {
     "data": {
      "text/plain": [
       "<matplotlib.text.Text at 0x7efda1a6a588>"
      ]
     },
     "execution_count": 24,
     "metadata": {},
     "output_type": "execute_result"
    },
    {
     "data": {
      "image/png": "[encoded data removed]",
      "text/plain": [
       "<matplotlib.figure.Figure at 0x7efda1cd5208>"
      ]
     },
     "metadata": {},
     "output_type": "display_data"
    }
   ],
   "source": [
    "plt.plot(samples, data[:,1:4], '-')\n",
    "plt.xlabel('time (samples @ 100 Hz)')\n",
    "plt.ylabel('RTOE (mm)')"
   ]
  },
  {
   "cell_type": "markdown",
   "metadata": {},
   "source": [
    "(It is possible to add a legend to the plot to label the 'x', 'y', and 'z' lines, but we'll leave that for another session.)"
   ]
  },
  {
   "cell_type": "markdown",
   "metadata": {},
   "source": [
    "These data have been collected on the SES Vicon system, meaning $x$ is across the direction of walking, $y$ is along the walkway, and $z$ is vertical.\n",
    "\n",
    "**Exercises:** In which direction (+ve $y$ or -ve $y$) was the subject walking for this trial? Explain why the plot of RTOE:Y looks like it does."
   ]
  },
  {
   "cell_type": "markdown",
   "metadata": {},
   "source": [
    "We could also plot the RAJC:Z and RKJC:Z values, using two different plot commands, which will both be drawn on the same axes."
   ]
  },
  {
   "cell_type": "code",
   "execution_count": 25,
   "metadata": {},
   "outputs": [
    {
     "data": {
      "text/plain": [
       "[<matplotlib.lines.Line2D at 0x7efda19daac8>]"
      ]
     },
     "execution_count": 25,
     "metadata": {},
     "output_type": "execute_result"
    },
    {
     "data": {
      "image/png": "[encoded data removed]",
      "text/plain": [
       "<matplotlib.figure.Figure at 0x7efda19da9e8>"
      ]
     },
     "metadata": {},
     "output_type": "display_data"
    }
   ],
   "source": [
    "plt.plot(samples, data[:,12], 'r-') # RAJC:Z\n",
    "plt.plot(samples, data[:,9], 'g-') # RKJC:Z"
   ]
  },
  {
   "cell_type": "markdown",
   "metadata": {},
   "source": [
    "**Exercise:** Use the documentation for the plot function (linked to above) to make the knee line thicker and blue."
   ]
  },
  {
   "cell_type": "markdown",
   "metadata": {},
   "source": [
    "### Array mathematics"
   ]
  },
  {
   "cell_type": "markdown",
   "metadata": {},
   "source": [
    "Arrays of numbers can be operated on just like single numbers. For example, adding a scalar to a vector adds that value to each element."
   ]
  },
  {
   "cell_type": "code",
   "execution_count": 26,
   "metadata": {},
   "outputs": [
    {
     "name": "stdout",
     "output_type": "stream",
     "text": [
      "[4 5 6]\n"
     ]
    }
   ],
   "source": [
    "a = np.array([1,2,3])\n",
    "print(a + 3)"
   ]
  },
  {
   "cell_type": "markdown",
   "metadata": {},
   "source": [
    "When two arrays are being added, the corresponding elements are added together. If the arrays have different shapes, that will usually raise an error. Hint: this is like adding two vectors."
   ]
  },
  {
   "cell_type": "code",
   "execution_count": 27,
   "metadata": {},
   "outputs": [
    {
     "name": "stdout",
     "output_type": "stream",
     "text": [
      "[ 4  4 10]\n"
     ]
    }
   ],
   "source": [
    "b = np.array([3,2,7])\n",
    "print(a + b)"
   ]
  },
  {
   "cell_type": "markdown",
   "metadata": {},
   "source": [
    "Similarly, multiplication of a vector by a scalar works as expected."
   ]
  },
  {
   "cell_type": "code",
   "execution_count": 28,
   "metadata": {},
   "outputs": [
    {
     "name": "stdout",
     "output_type": "stream",
     "text": [
      "[ 0.44  0.88  1.32]\n"
     ]
    }
   ],
   "source": [
    "print(a * 0.44)"
   ]
  },
  {
   "cell_type": "markdown",
   "metadata": {},
   "source": [
    "Hint: this is equivalent to multiplying a segment vector by a COM fraction of segment length."
   ]
  },
  {
   "cell_type": "markdown",
   "metadata": {},
   "source": [
    "We can also use this array maths to concisely calculate segment vectors from our joint centres.\n",
    "\n",
    "First of all, let's make an array that is contains all the y, and z values (for 2-D analysis) from our ankle and knee joint centres."
   ]
  },
  {
   "cell_type": "code",
   "execution_count": 29,
   "metadata": {},
   "outputs": [],
   "source": [
    "rajc = data[:,11:]\n",
    "rkjc = data[:,8:10]"
   ]
  },
  {
   "cell_type": "markdown",
   "metadata": {},
   "source": [
    "Now we remember our definition of the shank segment as the vector from knee to ankle, i.e.\n",
    "\n",
    "$\\vec{v}_\\mathsf{shank} = p_\\mathsf{ankle} − p_\\mathsf{knee}$\n",
    "\n",
    "This can be calculated as..."
   ]
  },
  {
   "cell_type": "code",
   "execution_count": 30,
   "metadata": {},
   "outputs": [],
   "source": [
    "shank = rajc - rkjc"
   ]
  },
  {
   "cell_type": "markdown",
   "metadata": {},
   "source": [
    "... which has now done that subtraction in $y$ and $z$, at all time points.\n",
    "\n",
    "To calculate the angle of a segment, we can use the arctan2 function from the `numpy` library. If the arguments are vectors of equal size, then `arctan2` will calculate the inverse tangent for each pair of corresponding elements from each vector.\n",
    "\n",
    "For example, if our inputs were:\n",
    "\n",
    "    a = np.array([2,3])\n",
    "    b = np.array([5,9])\n",
    "\n",
    "Then the result of `np.arctan2(a, b)` would be...\n",
    "\n",
    "    np.arctan2(a[0], b[0]), np.arctan2(a[1], b[1])\n",
    "\n",
    "i.e.\n",
    "    \n",
    "    np.arctan2(2, 5), np.arctan2(3, 9)\n",
    "\n",
    "We can use this to calculate the angle at all the time points simultaneously."
   ]
  },
  {
   "cell_type": "code",
   "execution_count": 31,
   "metadata": {},
   "outputs": [],
   "source": [
    "shank_angle = np.arctan2(shank[:,1], shank[:,0])"
   ]
  },
  {
   "cell_type": "markdown",
   "metadata": {},
   "source": [
    "**Exercise:** What units do you think this angle is in? Hint: If you're stuck, check the documentation online: http://docs.scipy.org/doc/numpy/reference/generated/numpy.arctan2.html"
   ]
  },
  {
   "cell_type": "markdown",
   "metadata": {},
   "source": [
    "### Writing your own functions"
   ]
  },
  {
   "cell_type": "markdown",
   "metadata": {},
   "source": [
    "Very often when writing code, functions that do exactly what you want are not available. Then you can write your own. Writing small functions that do specific jobs is also good coding practice as it helps with debugging and making your code more testable and reusable.\n",
    "\n",
    "To define a new function, we use the def keyword, followed by the function name, then a list of parameters in brackets (which may be empty), and finally a colon. The 'body' of the function must be indented consistently to let python know which code belongs inside it. We use the return keyword to return a value from the function.\n",
    "\n",
    "Here, we'll write a function couple of functions. The first, just_two will take no inputs and will return the value 2."
   ]
  },
  {
   "cell_type": "code",
   "execution_count": 32,
   "metadata": {},
   "outputs": [],
   "source": [
    "def just_two():\n",
    "    return 2"
   ]
  },
  {
   "cell_type": "markdown",
   "metadata": {},
   "source": [
    "Now we can use the function just like others wee have already seen.\n"
   ]
  },
  {
   "cell_type": "code",
   "execution_count": 33,
   "metadata": {},
   "outputs": [
    {
     "name": "stdout",
     "output_type": "stream",
     "text": [
      "2\n"
     ]
    }
   ],
   "source": [
    "print(just_two())"
   ]
  },
  {
   "cell_type": "markdown",
   "metadata": {},
   "source": [
    "This next function, add_two, will take one input parameter, called number, add 2 to it, and return that value."
   ]
  },
  {
   "cell_type": "code",
   "execution_count": 34,
   "metadata": {},
   "outputs": [],
   "source": [
    "def add_two(number):\n",
    "    result = number + 2\n",
    "    return result"
   ]
  },
  {
   "cell_type": "code",
   "execution_count": 35,
   "metadata": {},
   "outputs": [
    {
     "name": "stdout",
     "output_type": "stream",
     "text": [
      "5\n"
     ]
    }
   ],
   "source": [
    "print(add_two(3))"
   ]
  },
  {
   "cell_type": "markdown",
   "metadata": {},
   "source": [
    "Obviously, we would normally write more complex functions, like the ones coming up in the 'Differentiating' section."
   ]
  },
  {
   "cell_type": "markdown",
   "metadata": {},
   "source": [
    "### Differentiating"
   ]
  },
  {
   "cell_type": "markdown",
   "metadata": {},
   "source": [
    "To calculate velocity from your position data, you need to differentiate the values.\n",
    "\n",
    "Fortunately, we know formulas for numerical differentiation (e.g. from http://www1.i2r.a-star.edu.sg/~wongtc/numericaldifferentiation.html) that we can implement.\n",
    "\n",
    "For example:\n",
    "\n",
    "3-pt differentiation\n",
    "\n",
    "$f_1^{(1)} = \\dfrac{f_2 − f_0}{2h}$\n",
    "\n",
    "3-pt double differentiation\n",
    "\n",
    "$f_1^{(2)} = \\dfrac{f_2 − 2f_1 + f_0}{h^2}$\n",
    "\n",
    "We can write these as new functions. Indexing is used to create new arrays with offset time points to give us the previous and next samples as required by the formula. The other rule used here is that negative index values start counting from the end, so `arr[-1]` is the last sample and `arr[1:-1]` means everything except the first and last samples. In order for this to work, the three lists of numbers $f_0$, $f_1$, and $f_2$ must all have the same length (number of numbers)."
   ]
  },
  {
   "cell_type": "code",
   "execution_count": 36,
   "metadata": {},
   "outputs": [],
   "source": [
    "def dbl_diff_3pt(arr, h):\n",
    "    f1 = arr[1:-1]\n",
    "    f0 = arr[:-2]\n",
    "    f2 = arr[2:]\n",
    "    return (f2 - 2 * f1 + f0) / h**2"
   ]
  },
  {
   "cell_type": "markdown",
   "metadata": {},
   "source": [
    "**Exercise:** Write the function for 3-pt single differentiation, given by the first formula above."
   ]
  },
  {
   "cell_type": "markdown",
   "metadata": {},
   "source": [
    "The `dbl_diff_3pt` function performs all its operations along the first dimension of the input arr. This means it doesn't care if there are extra dimensions following it, which means that we can use this function to differentiate a vector in $x$, $y$, and $z$ simultaneously."
   ]
  },
  {
   "cell_type": "code",
   "execution_count": 37,
   "metadata": {},
   "outputs": [],
   "source": [
    "dt = 1 / 100. # Data were collected at 100 Hz.\n",
    "knee_acceleration = dbl_diff_3pt(rkjc, dt)"
   ]
  },
  {
   "cell_type": "markdown",
   "metadata": {},
   "source": [
    "Even more helpful, numpy has a built-in differentiation function gradient [http://docs.scipy.org/doc/numpy/reference/generated/numpy.gradient.html#numpy.gradient], to save us doing the work of writing a new function (but note, this is single differentiation only - to get double differentiation, you could apply it twice).\n",
    "\n",
    "**Exercise:** compare the results of np.gradient and your single differentiation function in a plot."
   ]
  },
  {
   "cell_type": "markdown",
   "metadata": {},
   "source": [
    "### More documentation"
   ]
  },
  {
   "cell_type": "markdown",
   "metadata": {},
   "source": [
    "This tutorial has covered the essentials you would need for doing your assignment, but has barely scratched the surface of what Python can do. For example, in the scipy libraries are Fourier Transform functions, filtering, and curve fitting functions I've used to generate the plots in early 303 lectures.\n",
    "\n",
    "To see what else it is capable of, have a look at some of these sources:\n",
    "\n",
    "* the notebook files I've posted on CourseBuilder pages for various lectures.\n",
    "* the numpy tutorial http://wiki.scipy.org/Tentative_NumPy_Tutorial\n",
    "* the scipy and numpy documentation http://docs.scipy.org/doc/\n",
    "\n",
    "or just google keywords like: python, numpy, scipy, tutorial, science."
   ]
  }
 ],
 "metadata": {
  "anaconda-cloud": {},
  "kernelspec": {
   "display_name": "Python 3",
   "language": "python",
   "name": "python3"
  },
  "language_info": {
   "codemirror_mode": {
    "name": "ipython",
    "version": 3
   },
   "file_extension": ".py",
   "mimetype": "text/x-python",
   "name": "python",
   "nbconvert_exporter": "python",
   "pygments_lexer": "ipython3",
   "version": "3.6.1"
  }
 },
 "nbformat": 4,
 "nbformat_minor": 1
}
